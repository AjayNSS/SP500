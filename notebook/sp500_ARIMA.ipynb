{
 "cells": [
  {
   "cell_type": "code",
   "execution_count": 1,
   "id": "b0691b1f",
   "metadata": {},
   "outputs": [],
   "source": [
    "import numpy as np \n",
    "import pandas as pd \n",
    "import seaborn as sns \n",
    "import matplotlib.pyplot as plt\n",
    "import datetime\n",
    "from datetime import datetime, timedelta\n",
    "from sklearn.metrics import mean_squared_error\n",
    "from sklearn.preprocessing import MinMaxScaler\n",
    "from statsmodels.graphics.tsaplots import plot_predict\n",
    "from statsmodels.tsa.arima.model import ARIMA\n",
    "from statsmodels.tsa.seasonal import seasonal_decompose\n",
    "from statsmodels.tsa.stattools import adfuller\n",
    "from statsmodels.graphics.tsaplots import plot_acf, plot_pacf\n"
   ]
  },
  {
   "cell_type": "code",
   "execution_count": 2,
   "id": "d1bf35df",
   "metadata": {},
   "outputs": [],
   "source": [
    "#pip install pmdarima"
   ]
  },
  {
   "cell_type": "code",
   "execution_count": 3,
   "id": "6c3b7030",
   "metadata": {},
   "outputs": [],
   "source": [
    "#pip install mpl_interactions[\"jupyter\"] "
   ]
  },
  {
   "cell_type": "code",
   "execution_count": 4,
   "id": "7470ca95",
   "metadata": {},
   "outputs": [],
   "source": [
    "spall = pd.read_csv('../data/sp500_cleaned-final.csv', low_memory=False,parse_dates=['Date'])\n",
    "sp=spall"
   ]
  },
  {
   "cell_type": "code",
   "execution_count": 5,
   "id": "036ace37",
   "metadata": {},
   "outputs": [],
   "source": [
    "#Global variables\n",
    "date_Filter = '2019-01-01'"
   ]
  },
  {
   "cell_type": "code",
   "execution_count": 6,
   "id": "4436a3d7",
   "metadata": {
    "scrolled": true
   },
   "outputs": [
    {
     "data": {
      "text/html": [
       "<div>\n",
       "<style scoped>\n",
       "    .dataframe tbody tr th:only-of-type {\n",
       "        vertical-align: middle;\n",
       "    }\n",
       "\n",
       "    .dataframe tbody tr th {\n",
       "        vertical-align: top;\n",
       "    }\n",
       "\n",
       "    .dataframe thead th {\n",
       "        text-align: right;\n",
       "    }\n",
       "</style>\n",
       "<table border=\"1\" class=\"dataframe\">\n",
       "  <thead>\n",
       "    <tr style=\"text-align: right;\">\n",
       "      <th></th>\n",
       "      <th>Date</th>\n",
       "      <th>Open</th>\n",
       "      <th>High</th>\n",
       "      <th>Low</th>\n",
       "      <th>Close</th>\n",
       "    </tr>\n",
       "  </thead>\n",
       "  <tbody>\n",
       "    <tr>\n",
       "      <th>0</th>\n",
       "      <td>1927-12-30</td>\n",
       "      <td>17.66</td>\n",
       "      <td>17.66</td>\n",
       "      <td>17.66</td>\n",
       "      <td>17.66</td>\n",
       "    </tr>\n",
       "    <tr>\n",
       "      <th>1</th>\n",
       "      <td>1928-01-03</td>\n",
       "      <td>17.76</td>\n",
       "      <td>17.76</td>\n",
       "      <td>17.76</td>\n",
       "      <td>17.76</td>\n",
       "    </tr>\n",
       "    <tr>\n",
       "      <th>2</th>\n",
       "      <td>1928-01-04</td>\n",
       "      <td>17.72</td>\n",
       "      <td>17.72</td>\n",
       "      <td>17.72</td>\n",
       "      <td>17.72</td>\n",
       "    </tr>\n",
       "    <tr>\n",
       "      <th>3</th>\n",
       "      <td>1928-01-05</td>\n",
       "      <td>17.55</td>\n",
       "      <td>17.55</td>\n",
       "      <td>17.55</td>\n",
       "      <td>17.55</td>\n",
       "    </tr>\n",
       "    <tr>\n",
       "      <th>4</th>\n",
       "      <td>1928-01-06</td>\n",
       "      <td>17.66</td>\n",
       "      <td>17.66</td>\n",
       "      <td>17.66</td>\n",
       "      <td>17.66</td>\n",
       "    </tr>\n",
       "    <tr>\n",
       "      <th>...</th>\n",
       "      <td>...</td>\n",
       "      <td>...</td>\n",
       "      <td>...</td>\n",
       "      <td>...</td>\n",
       "      <td>...</td>\n",
       "    </tr>\n",
       "    <tr>\n",
       "      <th>23953</th>\n",
       "      <td>2023-05-12</td>\n",
       "      <td>4138.54</td>\n",
       "      <td>4143.74</td>\n",
       "      <td>4099.12</td>\n",
       "      <td>4124.08</td>\n",
       "    </tr>\n",
       "    <tr>\n",
       "      <th>23954</th>\n",
       "      <td>2023-05-15</td>\n",
       "      <td>4126.65</td>\n",
       "      <td>4141.25</td>\n",
       "      <td>4110.27</td>\n",
       "      <td>4136.28</td>\n",
       "    </tr>\n",
       "    <tr>\n",
       "      <th>23955</th>\n",
       "      <td>2023-05-16</td>\n",
       "      <td>4127.95</td>\n",
       "      <td>4135.54</td>\n",
       "      <td>4109.86</td>\n",
       "      <td>4109.90</td>\n",
       "    </tr>\n",
       "    <tr>\n",
       "      <th>23956</th>\n",
       "      <td>2023-05-17</td>\n",
       "      <td>4122.85</td>\n",
       "      <td>4164.67</td>\n",
       "      <td>4113.62</td>\n",
       "      <td>4158.77</td>\n",
       "    </tr>\n",
       "    <tr>\n",
       "      <th>23957</th>\n",
       "      <td>2023-05-18</td>\n",
       "      <td>4157.68</td>\n",
       "      <td>4202.20</td>\n",
       "      <td>4153.50</td>\n",
       "      <td>4198.05</td>\n",
       "    </tr>\n",
       "  </tbody>\n",
       "</table>\n",
       "<p>23958 rows × 5 columns</p>\n",
       "</div>"
      ],
      "text/plain": [
       "            Date     Open     High      Low    Close\n",
       "0     1927-12-30    17.66    17.66    17.66    17.66\n",
       "1     1928-01-03    17.76    17.76    17.76    17.76\n",
       "2     1928-01-04    17.72    17.72    17.72    17.72\n",
       "3     1928-01-05    17.55    17.55    17.55    17.55\n",
       "4     1928-01-06    17.66    17.66    17.66    17.66\n",
       "...          ...      ...      ...      ...      ...\n",
       "23953 2023-05-12  4138.54  4143.74  4099.12  4124.08\n",
       "23954 2023-05-15  4126.65  4141.25  4110.27  4136.28\n",
       "23955 2023-05-16  4127.95  4135.54  4109.86  4109.90\n",
       "23956 2023-05-17  4122.85  4164.67  4113.62  4158.77\n",
       "23957 2023-05-18  4157.68  4202.20  4153.50  4198.05\n",
       "\n",
       "[23958 rows x 5 columns]"
      ]
     },
     "execution_count": 6,
     "metadata": {},
     "output_type": "execute_result"
    }
   ],
   "source": [
    "sp"
   ]
  },
  {
   "cell_type": "markdown",
   "id": "b1c2141c",
   "metadata": {},
   "source": [
    "# Functions used"
   ]
  },
  {
   "cell_type": "code",
   "execution_count": 7,
   "id": "fdfe1a8d",
   "metadata": {},
   "outputs": [],
   "source": [
    "#MAPE - will be used to measure the performance of the model\n",
    "#https://www.pluralsight.com/guides/advanced-time-series-modeling-(arima)-models-in-python\n",
    "#The lower the MAPE value, the better the forecasting model performance.\n",
    "\n",
    "def mean_absolute_percentage_error(y_true, y_pred): \n",
    "    y_true, y_pred = np.array(y_true), np.array(y_pred)\n",
    "    return np.mean(np.abs((y_true - y_pred) / y_true)) * 100"
   ]
  },
  {
   "cell_type": "code",
   "execution_count": 8,
   "id": "c1e4f0d6",
   "metadata": {},
   "outputs": [],
   "source": [
    "#Create dataframe from test and Pred\n",
    "def getTestPredDF(test_df, pred_df):\n",
    "    cols = ['date', 'y_test', 'y_pred']\n",
    "    res_df=pd.DataFrame(data=[test_df.index.to_numpy(),test_df[\"Close\"].to_numpy(), pred_df]).T\n",
    "    res_df.columns = cols\n",
    "    return res_df    "
   ]
  },
  {
   "cell_type": "code",
   "execution_count": 9,
   "id": "08b0c989",
   "metadata": {},
   "outputs": [],
   "source": [
    "# Accuracy metrics\n",
    "def forecast_accuracy(forecast, actual):\n",
    "    mape = np.mean(np.abs(forecast - actual)/np.abs(actual))  # MAPE\n",
    "    me = np.mean(forecast - actual)             # ME\n",
    "    mae = np.mean(np.abs(forecast - actual))    # MAE\n",
    "    mpe = np.mean((forecast - actual)/actual)   # MPE\n",
    "    rmse = np.mean((forecast - actual)**2)**.5  # RMSE\n",
    "                    # ACF1\n",
    "    return({'mape':mape, 'me':me, 'mae': mae, \n",
    "            'mpe': mpe, 'rmse':rmse \n",
    "            })"
   ]
  },
  {
   "cell_type": "code",
   "execution_count": 10,
   "id": "c24cf03e",
   "metadata": {
    "scrolled": true
   },
   "outputs": [
    {
     "name": "stdout",
     "output_type": "stream",
     "text": [
      "            Date    Close\n",
      "22855 2019-01-02  2510.03\n",
      "22856 2019-01-03  2447.89\n",
      "22857 2019-01-04  2531.94\n",
      "22858 2019-01-07  2549.69\n",
      "22859 2019-01-08  2574.41\n",
      "...          ...      ...\n",
      "23953 2023-05-12  4124.08\n",
      "23954 2023-05-15  4136.28\n",
      "23955 2023-05-16  4109.90\n",
      "23956 2023-05-17  4158.77\n",
      "23957 2023-05-18  4198.05\n",
      "\n",
      "[1103 rows x 2 columns]\n"
     ]
    }
   ],
   "source": [
    "# SP500\n",
    "#Filter the SP data \n",
    "sp = sp[sp['Date'] > date_Filter]\n",
    "sp = sp.drop(['Open','High','Low'], axis=1).sort_values(by='Date',ascending=True) \n",
    "# Scale Close price\n",
    "#sp[['Close']] = scaler.fit_transform(sp[['Close']])\n",
    "print(sp)\n"
   ]
  },
  {
   "cell_type": "code",
   "execution_count": 11,
   "id": "7b7fa809",
   "metadata": {},
   "outputs": [
    {
     "data": {
      "text/html": [
       "<div>\n",
       "<style scoped>\n",
       "    .dataframe tbody tr th:only-of-type {\n",
       "        vertical-align: middle;\n",
       "    }\n",
       "\n",
       "    .dataframe tbody tr th {\n",
       "        vertical-align: top;\n",
       "    }\n",
       "\n",
       "    .dataframe thead th {\n",
       "        text-align: right;\n",
       "    }\n",
       "</style>\n",
       "<table border=\"1\" class=\"dataframe\">\n",
       "  <thead>\n",
       "    <tr style=\"text-align: right;\">\n",
       "      <th></th>\n",
       "      <th>Close</th>\n",
       "    </tr>\n",
       "    <tr>\n",
       "      <th>Date</th>\n",
       "      <th></th>\n",
       "    </tr>\n",
       "  </thead>\n",
       "  <tbody>\n",
       "    <tr>\n",
       "      <th>2019-01-02</th>\n",
       "      <td>2510.03</td>\n",
       "    </tr>\n",
       "    <tr>\n",
       "      <th>2019-01-03</th>\n",
       "      <td>2447.89</td>\n",
       "    </tr>\n",
       "    <tr>\n",
       "      <th>2019-01-04</th>\n",
       "      <td>2531.94</td>\n",
       "    </tr>\n",
       "    <tr>\n",
       "      <th>2019-01-07</th>\n",
       "      <td>2549.69</td>\n",
       "    </tr>\n",
       "    <tr>\n",
       "      <th>2019-01-08</th>\n",
       "      <td>2574.41</td>\n",
       "    </tr>\n",
       "    <tr>\n",
       "      <th>...</th>\n",
       "      <td>...</td>\n",
       "    </tr>\n",
       "    <tr>\n",
       "      <th>2023-05-12</th>\n",
       "      <td>4124.08</td>\n",
       "    </tr>\n",
       "    <tr>\n",
       "      <th>2023-05-15</th>\n",
       "      <td>4136.28</td>\n",
       "    </tr>\n",
       "    <tr>\n",
       "      <th>2023-05-16</th>\n",
       "      <td>4109.90</td>\n",
       "    </tr>\n",
       "    <tr>\n",
       "      <th>2023-05-17</th>\n",
       "      <td>4158.77</td>\n",
       "    </tr>\n",
       "    <tr>\n",
       "      <th>2023-05-18</th>\n",
       "      <td>4198.05</td>\n",
       "    </tr>\n",
       "  </tbody>\n",
       "</table>\n",
       "<p>1103 rows × 1 columns</p>\n",
       "</div>"
      ],
      "text/plain": [
       "              Close\n",
       "Date               \n",
       "2019-01-02  2510.03\n",
       "2019-01-03  2447.89\n",
       "2019-01-04  2531.94\n",
       "2019-01-07  2549.69\n",
       "2019-01-08  2574.41\n",
       "...             ...\n",
       "2023-05-12  4124.08\n",
       "2023-05-15  4136.28\n",
       "2023-05-16  4109.90\n",
       "2023-05-17  4158.77\n",
       "2023-05-18  4198.05\n",
       "\n",
       "[1103 rows x 1 columns]"
      ]
     },
     "execution_count": 11,
     "metadata": {},
     "output_type": "execute_result"
    }
   ],
   "source": [
    "sp.index = sp.pop('Date')\n",
    "sp"
   ]
  },
  {
   "cell_type": "code",
   "execution_count": 12,
   "id": "b1c8fd8d",
   "metadata": {},
   "outputs": [
    {
     "data": {
      "text/html": [
       "<div>\n",
       "<style scoped>\n",
       "    .dataframe tbody tr th:only-of-type {\n",
       "        vertical-align: middle;\n",
       "    }\n",
       "\n",
       "    .dataframe tbody tr th {\n",
       "        vertical-align: top;\n",
       "    }\n",
       "\n",
       "    .dataframe thead th {\n",
       "        text-align: right;\n",
       "    }\n",
       "</style>\n",
       "<table border=\"1\" class=\"dataframe\">\n",
       "  <thead>\n",
       "    <tr style=\"text-align: right;\">\n",
       "      <th></th>\n",
       "      <th>Close</th>\n",
       "    </tr>\n",
       "    <tr>\n",
       "      <th>Date</th>\n",
       "      <th></th>\n",
       "    </tr>\n",
       "  </thead>\n",
       "  <tbody>\n",
       "    <tr>\n",
       "      <th>2019-01-02</th>\n",
       "      <td>2510.03</td>\n",
       "    </tr>\n",
       "    <tr>\n",
       "      <th>2019-01-03</th>\n",
       "      <td>2447.89</td>\n",
       "    </tr>\n",
       "    <tr>\n",
       "      <th>2019-01-04</th>\n",
       "      <td>2531.94</td>\n",
       "    </tr>\n",
       "    <tr>\n",
       "      <th>2019-01-07</th>\n",
       "      <td>2549.69</td>\n",
       "    </tr>\n",
       "    <tr>\n",
       "      <th>2019-01-08</th>\n",
       "      <td>2574.41</td>\n",
       "    </tr>\n",
       "    <tr>\n",
       "      <th>...</th>\n",
       "      <td>...</td>\n",
       "    </tr>\n",
       "    <tr>\n",
       "      <th>2023-05-12</th>\n",
       "      <td>4124.08</td>\n",
       "    </tr>\n",
       "    <tr>\n",
       "      <th>2023-05-15</th>\n",
       "      <td>4136.28</td>\n",
       "    </tr>\n",
       "    <tr>\n",
       "      <th>2023-05-16</th>\n",
       "      <td>4109.90</td>\n",
       "    </tr>\n",
       "    <tr>\n",
       "      <th>2023-05-17</th>\n",
       "      <td>4158.77</td>\n",
       "    </tr>\n",
       "    <tr>\n",
       "      <th>2023-05-18</th>\n",
       "      <td>4198.05</td>\n",
       "    </tr>\n",
       "  </tbody>\n",
       "</table>\n",
       "<p>1103 rows × 1 columns</p>\n",
       "</div>"
      ],
      "text/plain": [
       "              Close\n",
       "Date               \n",
       "2019-01-02  2510.03\n",
       "2019-01-03  2447.89\n",
       "2019-01-04  2531.94\n",
       "2019-01-07  2549.69\n",
       "2019-01-08  2574.41\n",
       "...             ...\n",
       "2023-05-12  4124.08\n",
       "2023-05-15  4136.28\n",
       "2023-05-16  4109.90\n",
       "2023-05-17  4158.77\n",
       "2023-05-18  4198.05\n",
       "\n",
       "[1103 rows x 1 columns]"
      ]
     },
     "execution_count": 12,
     "metadata": {},
     "output_type": "execute_result"
    }
   ],
   "source": [
    "df=sp\n",
    "df"
   ]
  },
  {
   "cell_type": "markdown",
   "id": "74289673",
   "metadata": {},
   "source": [
    "### S&P 500 Price till May 2023"
   ]
  },
  {
   "cell_type": "code",
   "execution_count": 13,
   "id": "1f9ff449",
   "metadata": {
    "scrolled": true
   },
   "outputs": [
    {
     "data": {
      "image/png": "[encoded data removed]",
      "text/plain": [
       "<Figure size 1296x648 with 1 Axes>"
      ]
     },
     "metadata": {
      "needs_background": "light"
     },
     "output_type": "display_data"
    }
   ],
   "source": [
    "#Plot sp500\n",
    "sp.plot.line(y=\"Close\", use_index=True, figsize = (18,9))\n",
    "plt.xticks(rotation=70)\n",
    "plt.xlabel('Date',fontsize=18)\n",
    "plt.ylabel('Close Price',fontsize=18)\n",
    "plt.show()\n"
   ]
  },
  {
   "cell_type": "markdown",
   "id": "ec5f95f9",
   "metadata": {},
   "source": [
    "# ARIMA\n",
    "short for ‘Auto Regressive Integrated Moving Average’ is actually a class of models that ‘explains’ a given time series based on its own past values, that is, its own lags and the lagged forecast errors, so that equation can be used to forecast future values.\n",
    "\n",
    "\n"
   ]
  },
  {
   "cell_type": "markdown",
   "id": "35c60238",
   "metadata": {},
   "source": [
    "An ARIMA model is characterized by 3 terms: p, d, q where,\n",
    "\n",
    "p is the order of the AR term \n",
    "\n",
    "q is the order of the MA term\n",
    "\n",
    "d is the number of differencing required to make the time series stationary"
   ]
  },
  {
   "cell_type": "markdown",
   "id": "6e4e05d0",
   "metadata": {},
   "source": [
    "## Components of a Time Series:\n",
    "### Trend:\n",
    "The trend shows a general direction of the time series data over a long period of time. A trend can be increasing(upward), decreasing(downward), or horizontal(stationary).\n",
    "### Seasonality:\n",
    "The seasonality component exhibits a trend that repeats with respect to timing, direction, and magnitude. Some examples include an increase in water consumption in summer due to hot weather conditions, or an increase in the number of airline passengers during holidays each year.\n",
    "### Cyclical Component: \n",
    "These are the trends with no set repetition over a particular period of time. A cycle refers to the period of ups and downs, booms and slums of a time series, mostly observed in business cycles. These cycles do not exhibit a seasonal variation but generally occur over a time period of 3 to 12 years depending on the nature of the time series.\n",
    "### Irregular Variation: \n",
    "These are the fluctuations in the time series data which become evident when trend and cyclical variations are removed. These variations are unpredictable, erratic, and may or may not be random.\n",
    "### ETS Decomposition\n",
    "ETS Decomposition is used to separate different components of a time series. The term ETS stands for Error, Trend, and Seasonality."
   ]
  },
  {
   "cell_type": "markdown",
   "id": "adb3d530",
   "metadata": {},
   "source": [
    "### Stationarity check of S&P 500\n"
   ]
  },
  {
   "cell_type": "code",
   "execution_count": 14,
   "id": "0db060d3",
   "metadata": {},
   "outputs": [],
   "source": [
    "#Seasonal component\n",
    "#The seasonal component explains the periodic ups and downs "
   ]
  },
  {
   "cell_type": "code",
   "execution_count": 16,
   "id": "0fef8ec1",
   "metadata": {},
   "outputs": [
    {
     "data": {
      "image/png": "[encoded data removed]",
      "text/plain": [
       "<Figure size 1008x576 with 4 Axes>"
      ]
     },
     "metadata": {
      "needs_background": "light"
     },
     "output_type": "display_data"
    }
   ],
   "source": [
    "from statsmodels.tsa.seasonal import seasonal_decompose\n",
    "plt.rc('figure',figsize=(14,8))\n",
    "plt.rc('font',size=15)\n",
    "\n",
    "result = seasonal_decompose(sp.Close,model='additive', period=30)\n",
    "fig = result.plot()\n"
   ]
  },
  {
   "cell_type": "markdown",
   "id": "6d333849",
   "metadata": {},
   "source": [
    "### Points:\n",
    "\n",
    "Monthly seasonal pattern is visible\n",
    "An upwards,downwards, and sideways trend is evident"
   ]
  },
  {
   "cell_type": "markdown",
   "id": "4a27bb54",
   "metadata": {},
   "source": [
    "### Augmented Dickey Fuller (ADFuller) Test"
   ]
  },
  {
   "cell_type": "code",
   "execution_count": 17,
   "id": "092c2de5",
   "metadata": {},
   "outputs": [],
   "source": [
    "#Lets perform ADFuller test to check if the series is stationary\n",
    "from statsmodels.tsa.stattools import adfuller\n",
    "\n",
    "def adfuller_test(dataset):\n",
    "  adfresult = adfuller(dataset, autolag = 'AIC')\n",
    "  print(\"1. ADF Statistic: \",adfresult[0])\n",
    "  print(\"2. p-value : \", adfresult[1])\n",
    "  print(\"3. Num Of Lags : \", adfresult[2])\n",
    "  print(\"4. Num Of Observations :\", adfresult[3])\n",
    "  print(\"5. Critical Values :\")\n",
    "  for key, val in adfresult[4].items():\n",
    "      print(\"\\t\",key, \": \", val)"
   ]
  },
  {
   "cell_type": "code",
   "execution_count": 18,
   "id": "f988d878",
   "metadata": {
    "scrolled": false
   },
   "outputs": [
    {
     "name": "stdout",
     "output_type": "stream",
     "text": [
      "1. ADF Statistic:  -1.6369014959425516\n",
      "2. p-value :  0.4638803057763014\n",
      "3. Num Of Lags :  10\n",
      "4. Num Of Observations : 1092\n",
      "5. Critical Values :\n",
      "\t 1% :  -3.436352507699052\n",
      "\t 5% :  -2.86419037625175\n",
      "\t 10% :  -2.56818114683546\n"
     ]
    }
   ],
   "source": [
    "adfuller_test(df['Close'])"
   ]
  },
  {
   "cell_type": "markdown",
   "id": "a8573ba0",
   "metadata": {},
   "source": [
    "#### The output above shows that the p-value is greater than the significance level of 0.05, so we fail to reject the null hypothesis. The series is not stationary and requires differencing.\n",
    "let’s difference the series and see how the autocorrelation plot looks like."
   ]
  },
  {
   "cell_type": "code",
   "execution_count": 19,
   "id": "f377e739",
   "metadata": {},
   "outputs": [
    {
     "name": "stdout",
     "output_type": "stream",
     "text": [
      "p-value: 7.457834290526893e-18\n"
     ]
    }
   ],
   "source": [
    "diff_1 = df['Close'].diff().dropna()\n",
    "print(\"p-value:\", adfuller(diff_1.dropna())[1])"
   ]
  },
  {
   "cell_type": "markdown",
   "id": "5966c231",
   "metadata": {},
   "source": [
    "### The p-value is now below the significance level, indicating that the series is stationary."
   ]
  },
  {
   "cell_type": "code",
   "execution_count": null,
   "id": "f321c06b",
   "metadata": {
    "scrolled": false
   },
   "outputs": [],
   "source": [
    "# import numpy as np, pandas as pd\n",
    "# from statsmodels.graphics.tsaplots import plot_acf, plot_pacf\n",
    "# import matplotlib.pyplot as plt\n",
    "# plt.rcParams.update({'figure.figsize':(9,7), 'figure.dpi':120})\n",
    "\n",
    "# spadf = spall[spall['Date'] > '2020-01-01']\n",
    "# spadf = spadf.drop(['Open','High','Low'], axis=1).sort_values(by='Date',ascending=True) \n",
    "# spadf.index = spadf.pop('Date')\n",
    "\n",
    "# # scaler_spadf = MinMaxScaler()\n",
    "# # spadf[['Close']] = scaler_spadf.fit_transform(spadf[['Close']])\n",
    "# print(spadf)\n",
    "\n",
    "# # Original Series\n",
    "# fig, axes = plt.subplots(3, 2, sharex=True)\n",
    "# axes[0, 0].plot(spadf['Close']); axes[0, 0].set_title('Original Series')\n",
    "# plot_acf(spadf['Close'], ax=axes[0, 1],lags=30)\n",
    "\n",
    "# # 1st Differencing\n",
    "# axes[1, 0].plot(spadf.Close.diff()); axes[1, 0].set_title('1st Order Differencing')\n",
    "# plot_acf(spadf['Close'].diff().dropna(), ax=axes[1, 1],lags=30)\n",
    "\n",
    "# # 2nd Differencing\n",
    "# axes[2, 0].plot(spadf.Close.diff().diff()); axes[2, 0].set_title('2nd Order Differencing')\n",
    "# plot_acf(spadf['Close'].diff().diff().dropna(), ax=axes[2, 1],lags=30)\n",
    "\n",
    "# plt.show()"
   ]
  },
  {
   "cell_type": "code",
   "execution_count": 20,
   "id": "9ee1747d",
   "metadata": {
    "scrolled": false
   },
   "outputs": [
    {
     "ename": "NameError",
     "evalue": "name 'spadf' is not defined",
     "output_type": "error",
     "traceback": [
      "\u001b[1;31m---------------------------------------------------------------------------\u001b[0m",
      "\u001b[1;31mNameError\u001b[0m                                 Traceback (most recent call last)",
      "Input \u001b[1;32mIn [20]\u001b[0m, in \u001b[0;36m<cell line: 1>\u001b[1;34m()\u001b[0m\n\u001b[1;32m----> 1\u001b[0m \u001b[43mspadf\u001b[49m\n",
      "\u001b[1;31mNameError\u001b[0m: name 'spadf' is not defined"
     ]
    }
   ],
   "source": [
    "spadf"
   ]
  },
  {
   "cell_type": "markdown",
   "id": "8219c328",
   "metadata": {},
   "source": [
    "## ACF and PACF plots"
   ]
  },
  {
   "cell_type": "markdown",
   "id": "ce46b242",
   "metadata": {},
   "source": [
    "####  The autocorrelation function will show the relationship between a point in time and lagged values"
   ]
  },
  {
   "cell_type": "code",
   "execution_count": 24,
   "id": "a768675e",
   "metadata": {},
   "outputs": [
    {
     "name": "stderr",
     "output_type": "stream",
     "text": [
      "C:\\ProgramData\\Anaconda3\\lib\\site-packages\\statsmodels\\graphics\\tsaplots.py:348: FutureWarning: The default method 'yw' can produce PACF values outside of the [-1,1] interval. After 0.13, the default will change tounadjusted Yule-Walker ('ywm'). You can use this method now by setting method='ywm'.\n",
      "  warnings.warn(\n"
     ]
    },
    {
     "data": {
      "image/png": "[encoded data removed]",
      "text/plain": [
       "<Figure size 1008x576 with 1 Axes>"
      ]
     },
     "metadata": {
      "needs_background": "light"
     },
     "output_type": "display_data"
    },
    {
     "data": {
      "image/png": "[encoded data removed]",
      "text/plain": [
       "<Figure size 1008x576 with 1 Axes>"
      ]
     },
     "metadata": {
      "needs_background": "light"
     },
     "output_type": "display_data"
    }
   ],
   "source": [
    "#Original Series\n",
    "plot_acf(sp['Close'], lags=30);\n",
    "plot_pacf(sp['Close'], lags=30);"
   ]
  },
  {
   "cell_type": "code",
   "execution_count": 22,
   "id": "ae131c0f",
   "metadata": {
    "scrolled": true
   },
   "outputs": [
    {
     "data": {
      "image/png": "[encoded data removed]",
      "text/plain": [
       "<Figure size 1008x576 with 1 Axes>"
      ]
     },
     "metadata": {
      "needs_background": "light"
     },
     "output_type": "display_data"
    }
   ],
   "source": [
    "# 1st Differencing\n",
    "plot_acf(sp['Close'].diff().dropna(), lags=30);"
   ]
  },
  {
   "cell_type": "code",
   "execution_count": 25,
   "id": "fb6516e7",
   "metadata": {},
   "outputs": [
    {
     "data": {
      "image/png": "[encoded data removed]",
      "text/plain": [
       "<Figure size 1008x576 with 1 Axes>"
      ]
     },
     "metadata": {
      "needs_background": "light"
     },
     "output_type": "display_data"
    }
   ],
   "source": [
    "# 2nd Differencing\n",
    "plot_acf(sp['Close'].diff().diff().dropna(), lags=30);"
   ]
  },
  {
   "cell_type": "markdown",
   "id": "f51e5184",
   "metadata": {},
   "source": [
    "# Estimating AR term(p)"
   ]
  },
  {
   "cell_type": "markdown",
   "id": "67065619",
   "metadata": {},
   "source": [
    "#### In plot above, we see that ACF and PACF results. To estimate the amount of AR terms, we need to look at the PACF plot. First, ignore the value at lag 0. It will always show a perfect correlation, since we are estimating the correlation between today’s value with itself. The blue area in the plot, represents the confidence interval. To estimate how much AR terms we should use, we start counting how many “Pins” are above or below the confidence interval before the next one enter the blue area.\n",
    "\n",
    "#### So, looking at the PACF(fig 2) plot above, we can estimate to use 2 AR terms for our model, since lag 1 and 2 are out of the confidence interval, and lag 3 is in the blue area."
   ]
  },
  {
   "cell_type": "markdown",
   "id": "32c5949b",
   "metadata": {},
   "source": [
    "#  Estimate I(d) term, the order of differencing \n",
    "Estimate the amount of I (d) terms is to know how many Differencing was used to make the series stationary. \n",
    "For example, if we used log difference or first difference to transform a time series, the amount of I terms will be 1.\n",
    "Since we diffrentiated 2 times the d=2"
   ]
  },
  {
   "cell_type": "markdown",
   "id": "5827f8e0",
   "metadata": {},
   "source": [
    "# Estimating MA(q) terms\n",
    "Just like the PACF function, to estimate the amount of MA terms, this time we will look at ACF plot. The same logic is applied here: how much Pins are above or below the confidence interval before the next lollipop enters the blue area?\n",
    "\n",
    "In our example, we can estimate 80 MA terms, since we have lag prior to 80 out of the confidence interval."
   ]
  },
  {
   "cell_type": "code",
   "execution_count": 26,
   "id": "7c5838ef",
   "metadata": {},
   "outputs": [],
   "source": [
    "p=3\n",
    "d=2\n",
    "q=62"
   ]
  },
  {
   "cell_type": "code",
   "execution_count": 28,
   "id": "a100c355",
   "metadata": {},
   "outputs": [
    {
     "name": "stdout",
     "output_type": "stream",
     "text": [
      "(1103, 1)\n",
      "(993, 1) (110, 1)\n",
      "Close    3934.38\n",
      "Name: 2022-12-09 00:00:00, dtype: float64 Close    4198.05\n",
      "Name: 2023-05-18 00:00:00, dtype: float64\n"
     ]
    }
   ],
   "source": [
    "#Split Train and Test data\n",
    "print(df.shape)\n",
    "train=df.iloc[:-110]\n",
    "test=df.iloc[-110:]\n",
    "print(train.shape,test.shape)\n",
    "print(test.iloc[0],test.iloc[-1])"
   ]
  },
  {
   "cell_type": "code",
   "execution_count": null,
   "id": "444dc0e3",
   "metadata": {},
   "outputs": [
    {
     "name": "stderr",
     "output_type": "stream",
     "text": [
      "C:\\ProgramData\\Anaconda3\\lib\\site-packages\\statsmodels\\tsa\\base\\tsa_model.py:471: ValueWarning: A date index has been provided, but it has no associated frequency information and so will be ignored when e.g. forecasting.\n",
      "  self._init_dates(dates, freq)\n",
      "C:\\ProgramData\\Anaconda3\\lib\\site-packages\\statsmodels\\tsa\\base\\tsa_model.py:471: ValueWarning: A date index has been provided, but it has no associated frequency information and so will be ignored when e.g. forecasting.\n",
      "  self._init_dates(dates, freq)\n",
      "C:\\ProgramData\\Anaconda3\\lib\\site-packages\\statsmodels\\tsa\\base\\tsa_model.py:471: ValueWarning: A date index has been provided, but it has no associated frequency information and so will be ignored when e.g. forecasting.\n",
      "  self._init_dates(dates, freq)\n",
      "C:\\ProgramData\\Anaconda3\\lib\\site-packages\\statsmodels\\tsa\\statespace\\sarimax.py:978: UserWarning: Non-invertible starting MA parameters found. Using zeros as starting parameters.\n",
      "  warn('Non-invertible starting MA parameters found.'\n"
     ]
    }
   ],
   "source": [
    "from statsmodels.tsa.arima.model import ARIMA\n",
    "model_res1=ARIMA(train['Close'],order=(3,2,62))\n",
    "model=model_res1.fit()\n",
    "model.summary()"
   ]
  },
  {
   "cell_type": "code",
   "execution_count": null,
   "id": "ddffc342",
   "metadata": {},
   "outputs": [],
   "source": [
    "#find d\n",
    "\n",
    "from pmdarima.arima.utils import ndiffs\n",
    "\n",
    "y = spadf.Close\n",
    "\n",
    "## Adf Test\n",
    "adf=ndiffs(y, test='adf')  # 2\n",
    "\n",
    "# KPSS test\n",
    "kpss=ndiffs(y, test='kpss')  # 0\n",
    "\n",
    "# PP test:\n",
    "pp= ndiffs(y, test='pp')  # 2\n",
    "print(adf)\n",
    "print(kpss)\n",
    "print(pp)"
   ]
  },
  {
   "cell_type": "code",
   "execution_count": null,
   "id": "ac00ef40",
   "metadata": {},
   "outputs": [],
   "source": [
    "# # PACF plot of 1st differenced series\n",
    "# plt.rcParams.update({'figure.figsize':(9,3), 'figure.dpi':120})\n",
    "\n",
    "# fig, axes = plt.subplots(1, 2, sharex=True)\n",
    "# axes[0].plot(df.Close.diff()); axes[0].set_title('1st Differencing')\n",
    "# axes[1].set(ylim=(0,5))\n",
    "# plot_pacf(df.Close.diff().dropna(), ax=axes[1], lags=40)\n",
    "\n",
    "# plt.show()"
   ]
  },
  {
   "cell_type": "markdown",
   "id": "f17a610c",
   "metadata": {},
   "source": [
    "### Auto Arima to get parameters"
   ]
  },
  {
   "cell_type": "code",
   "execution_count": null,
   "id": "fbcc2daa",
   "metadata": {},
   "outputs": [],
   "source": [
    "from pmdarima import auto_arima\n",
    "# Ignore harmless warnings\n",
    "import warnings\n",
    "warnings.filterwarnings(\"ignore\")"
   ]
  },
  {
   "cell_type": "code",
   "execution_count": null,
   "id": "a25b1af5",
   "metadata": {
    "scrolled": false
   },
   "outputs": [],
   "source": [
    "stepwise_fit = auto_arima(df['Close'],trace=True, \n",
    "                          suppress_warnings=True)           \n",
    "\n",
    "stepwise_fit.summary()"
   ]
  },
  {
   "cell_type": "markdown",
   "id": "a9b2ffcd",
   "metadata": {},
   "source": [
    "# Model-1: Auto ARIMA"
   ]
  },
  {
   "cell_type": "code",
   "execution_count": null,
   "id": "c5aa6371",
   "metadata": {},
   "outputs": [],
   "source": [
    "model_ar_auto=ARIMA(train['Close'],order=(2,1,2))\n",
    "model_ar_auto=model_ar_auto.fit()\n",
    "model_ar_auto.summary()"
   ]
  },
  {
   "cell_type": "code",
   "execution_count": null,
   "id": "4c7017b3",
   "metadata": {},
   "outputs": [],
   "source": [
    "start=len(train)\n",
    "end=len(train)+len(test)-1\n",
    "pred_ar_auto=model_ar_auto.predict(start=start,end=end,typ='levels').rename('ARIMA predictions')"
   ]
  },
  {
   "cell_type": "code",
   "execution_count": null,
   "id": "21e3b67f",
   "metadata": {
    "scrolled": false
   },
   "outputs": [],
   "source": [
    "pred_ar_auto"
   ]
  },
  {
   "cell_type": "code",
   "execution_count": null,
   "id": "38c90b84",
   "metadata": {},
   "outputs": [],
   "source": [
    "df_auto = getTestPredDF(test, pred_ar_auto)\n",
    "df_auto"
   ]
  },
  {
   "cell_type": "code",
   "execution_count": null,
   "id": "450aaf5c",
   "metadata": {
    "scrolled": true
   },
   "outputs": [],
   "source": [
    "df_auto.tail(20)"
   ]
  },
  {
   "cell_type": "code",
   "execution_count": null,
   "id": "3b591cb8",
   "metadata": {
    "scrolled": false
   },
   "outputs": [],
   "source": [
    "#Plot Test VS predicted\n",
    "plt.figure(figsize=(18,10))\n",
    "plt.plot(df_auto['date'].to_numpy() , df_auto['y_test'].to_numpy(), label=\"original\" )\n",
    "plt.plot(df_auto['date'].to_numpy() , df_auto['y_pred'].to_numpy(), label=\"predicted\" )\n",
    "plt.legend()\n",
    "plt.show()"
   ]
  },
  {
   "cell_type": "markdown",
   "id": "d655abb4",
   "metadata": {},
   "source": [
    "Above we see that the predicted values are pretty much flat."
   ]
  },
  {
   "cell_type": "markdown",
   "id": "0a77896e",
   "metadata": {},
   "source": [
    "# Get Hyper parameters p, d, q for ARIMA"
   ]
  },
  {
   "cell_type": "code",
   "execution_count": null,
   "id": "4f85f409",
   "metadata": {},
   "outputs": [],
   "source": [
    "import itertools\n",
    "from statsmodels.tsa.arima.model import ARIMA\n",
    "from sklearn.metrics import mean_squared_error\n",
    "p = range(0,8)\n",
    "d = range(0,2)\n",
    "q = range(0,8)\n",
    "\n",
    "rmse=[]\n",
    "order=[]\n",
    "pdq_combination = (list(itertools.product(p,d,q)))\n",
    "start=len(train)\n",
    "end=len(train)+len(test)-1\n",
    "\n",
    "for pdq in pdq_combination:\n",
    "    try:\n",
    "        model=ARIMA(train['Close'],order=(pdq))\n",
    "        model=model.fit()\n",
    "        s=model.summary() \n",
    "        pred=model.predict(start=len(train),end=end)\n",
    "        error=np.sqrt(mean_squared_error(test,pred))\n",
    "        order.append(pdq)\n",
    "        rmse.append(error)\n",
    "\n",
    "    except Exception as e:\n",
    "        print(e)\n",
    "    finally:\n",
    "        print('pdq: ')\n",
    "        print(pdq)        \n",
    "        print('error: ')\n",
    "        print(error)"
   ]
  },
  {
   "cell_type": "code",
   "execution_count": null,
   "id": "078f0a17",
   "metadata": {},
   "outputs": [],
   "source": [
    "cols = ['pdq', 'rmse']\n",
    "results=pd.DataFrame(data=[order,rmse]).T\n",
    "results.columns=cols\n",
    "results\n",
    "results.to_csv('ARIMA_results.csv')"
   ]
  },
  {
   "cell_type": "code",
   "execution_count": null,
   "id": "5bba692b",
   "metadata": {},
   "outputs": [],
   "source": [
    "#from the csv best parameters, for least MSE are\n",
    "#105\t(6, 1, 1)\t116.8841655\n"
   ]
  },
  {
   "cell_type": "code",
   "execution_count": null,
   "id": "ccbfbd02",
   "metadata": {
    "scrolled": true
   },
   "outputs": [],
   "source": [
    "from statsmodels.tsa.arima.model import ARIMA\n",
    "model_ar_manual=ARIMA(train['Close'],order=(6,1,1))\n",
    "model_ar_manual=model_ar_manual.fit()\n",
    "model_ar_manual.summary()\n"
   ]
  },
  {
   "cell_type": "code",
   "execution_count": null,
   "id": "43fecfd7",
   "metadata": {},
   "outputs": [],
   "source": [
    "start=len(train)\n",
    "end=len(train)+len(test)-1\n",
    "pred_ar_manual=model_ar_manual.predict(start=start,end=end,typ='levels').rename('ARIMA predictions for Manual Fit Model')"
   ]
  },
  {
   "cell_type": "code",
   "execution_count": null,
   "id": "a1b57b2c",
   "metadata": {},
   "outputs": [],
   "source": [
    "df_manual = getTestPredDF(test, pred_ar_manual)\n",
    "df_manual"
   ]
  },
  {
   "cell_type": "code",
   "execution_count": null,
   "id": "29b59b93",
   "metadata": {
    "scrolled": true
   },
   "outputs": [],
   "source": [
    "#Plot Test VS predicted\n",
    "plt.figure(figsize=(18,10))\n",
    "plt.plot(df_manual['date'].to_numpy() , df_manual['y_test'].to_numpy(), label=\"original\" )\n",
    "plt.plot(df_manual['date'].to_numpy() , df_manual['y_pred'].to_numpy(), label=\"predicted\" )\n",
    "plt.legend()\n",
    "plt.show()"
   ]
  },
  {
   "cell_type": "code",
   "execution_count": null,
   "id": "f7151f67",
   "metadata": {},
   "outputs": [],
   "source": [
    "forecast_accuracy( df_manual['y_pred'].to_numpy(), df_manual['y_test'].to_numpy())"
   ]
  },
  {
   "cell_type": "code",
   "execution_count": null,
   "id": "11c533ae",
   "metadata": {
    "scrolled": true
   },
   "outputs": [],
   "source": [
    "test['Close'].mean()"
   ]
  },
  {
   "cell_type": "code",
   "execution_count": null,
   "id": "dcacd7b7",
   "metadata": {
    "scrolled": true
   },
   "outputs": [],
   "source": [
    "model2_res=ARIMA(df['Close'],order=(1,0,3))\n",
    "model2=model2_res.fit()\n",
    "df.tail()"
   ]
  },
  {
   "cell_type": "code",
   "execution_count": null,
   "id": "0b9a0e26",
   "metadata": {},
   "outputs": [],
   "source": [
    "model2.summary()"
   ]
  },
  {
   "cell_type": "code",
   "execution_count": null,
   "id": "35ef6bc4",
   "metadata": {
    "scrolled": false
   },
   "outputs": [],
   "source": [
    "\n",
    "pred2=model2.predict(start=start,end=end,typ='levels').rename('ARIMA predictions')\n",
    "pred2"
   ]
  },
  {
   "cell_type": "code",
   "execution_count": null,
   "id": "217ba4c1",
   "metadata": {},
   "outputs": [],
   "source": [
    "def getTestPredDF(test_df, pred_df):\n",
    "    cols = ['date', 'y_test', 'y_pred']\n",
    "    res_df=pd.DataFrame(data=[test_df.index.to_numpy(),test_df[\"Close\"].to_numpy(), pred_df]).T\n",
    "    res_df.columns = cols\n",
    "    res_df    \n",
    "   "
   ]
  },
  {
   "cell_type": "code",
   "execution_count": null,
   "id": "be10492e",
   "metadata": {},
   "outputs": [],
   "source": [
    "sp_res2= getTestPredDF(test, pred2)"
   ]
  },
  {
   "cell_type": "code",
   "execution_count": null,
   "id": "e5bf6f0e",
   "metadata": {
    "scrolled": true
   },
   "outputs": [],
   "source": [
    "#Plot Test VS predicted\n",
    "plt.figure(figsize=(18,10))\n",
    "plt.plot(sp_res2['date'].to_numpy() , sp_res2['y_test'].to_numpy(), label=\"original\" )\n",
    "plt.plot(sp_res2['date'].to_numpy() , sp_res2['y_pred'].to_numpy(), label=\"predicted\" )\n",
    "plt.legend()\n",
    "plt.show()"
   ]
  },
  {
   "cell_type": "code",
   "execution_count": null,
   "id": "f6412d9f",
   "metadata": {},
   "outputs": [],
   "source": [
    "import matplotlib.pyplot as plt\n",
    "\n",
    "fig, ax = plt.subplots(figsize=(10, 8))\n",
    "fig = plot_predict(model2, start=\"2023-05-12\", end=\"2023-05-18\", ax=ax)\n",
    "legend = ax.legend(loc=\"upper left\")"
   ]
  },
  {
   "cell_type": "code",
   "execution_count": null,
   "id": "4bdaf931",
   "metadata": {},
   "outputs": [],
   "source": [
    "def mean_absolute_percentage_error(y_true, y_pred): \n",
    "    y_true, y_pred = np.array(y_true), np.array(y_pred)\n",
    "    return np.mean(np.abs((y_true - y_pred) / y_true)) * 100\n",
    "\n",
    "mean_absolute_percentage_error(test.Close, pred2)"
   ]
  },
  {
   "cell_type": "code",
   "execution_count": null,
   "id": "1783fc6c",
   "metadata": {},
   "outputs": [],
   "source": [
    "forecast_accuracy( sp_res2['y_pred'].to_numpy(), sp_res2['y_test'].to_numpy())"
   ]
  },
  {
   "cell_type": "code",
   "execution_count": null,
   "id": "cb75ae0e",
   "metadata": {},
   "outputs": [],
   "source": [
    "pred2"
   ]
  },
  {
   "cell_type": "code",
   "execution_count": null,
   "id": "50f21cbe",
   "metadata": {},
   "outputs": [],
   "source": [
    "# Plot residual errors\n",
    "residuals = pd.DataFrame(model2.resid)\n",
    "fig, ax = plt.subplots(1,2)\n",
    "residuals.plot(title=\"Residuals\", ax=ax[0])\n",
    "residuals.plot(kind='kde', title='Density', ax=ax[1])\n",
    "plt.show()"
   ]
  },
  {
   "cell_type": "markdown",
   "id": "6e38d11d",
   "metadata": {},
   "source": [
    "#### residual errors seem fine with near zero mean and uniform variance"
   ]
  },
  {
   "cell_type": "code",
   "execution_count": null,
   "id": "5814fa8d",
   "metadata": {},
   "outputs": [],
   "source": [
    "from statsmodels.graphics.tsaplots import plot_predict\n",
    "res = ARIMA(sp, order=(1,0,3)).fit()\n",
    "fig, ax = plt.subplots()\n",
    "ax = sp.loc['1990':].plot(ax=ax)\n",
    "plot_predict(res, '2021', '2023', ax=ax)\n",
    "plt.show()\n",
    "\n"
   ]
  },
  {
   "cell_type": "code",
   "execution_count": null,
   "id": "befeb15b",
   "metadata": {},
   "outputs": [],
   "source": [
    "sp"
   ]
  },
  {
   "cell_type": "code",
   "execution_count": null,
   "id": "932a016a",
   "metadata": {
    "scrolled": true
   },
   "outputs": [],
   "source": [
    "#Predict future prices\n",
    "index_future_dates=pd.date_range(start='2023-05-20',end='2023-06-19')\n",
    "#print(index_future_dates)\n",
    "pred=model2.predict(start=len(df),end=len(df)+30,typ='levels').rename('ARIMA Predictions')\n",
    "#print(comp_pred)\n",
    "pred.index=index_future_dates\n",
    "print(pred)"
   ]
  },
  {
   "cell_type": "code",
   "execution_count": null,
   "id": "6003d3fa",
   "metadata": {},
   "outputs": [],
   "source": [
    "type(pred)"
   ]
  },
  {
   "cell_type": "code",
   "execution_count": null,
   "id": "37eca3db",
   "metadata": {},
   "outputs": [],
   "source": [
    "dfFut = pred.to_frame(name='pred_future')\n",
    "dfFut.reset_index(inplace=True)\n",
    "dfFut.rename(columns={'index':'date'}, inplace=True)\n",
    "\n",
    "dfFut"
   ]
  },
  {
   "cell_type": "code",
   "execution_count": null,
   "id": "0e6c0fef",
   "metadata": {},
   "outputs": [],
   "source": [
    "#Plot Test VS predicted\n",
    "plt.figure(figsize=(18,10))\n",
    "plt.plot(sp_res2['date'].to_numpy() , sp_res2['y_test'].to_numpy(), label=\"original\" )\n",
    "plt.plot(sp_res2['date'].to_numpy() , sp_res2['y_pred'].to_numpy(), label=\"predicted\" )\n",
    "plt.plot(dfFut['date'].to_numpy() , dfFut['pred_future'].to_numpy(), label=\"predicted future\" )\n",
    "plt.legend()\n",
    "plt.show()"
   ]
  },
  {
   "cell_type": "markdown",
   "id": "a0545cdb",
   "metadata": {},
   "source": [
    "# Model 3: 6,1,1\n",
    "105\t(6, 1, 1)\t116.8841655\n"
   ]
  },
  {
   "cell_type": "code",
   "execution_count": null,
   "id": "50512ef9",
   "metadata": {},
   "outputs": [],
   "source": [
    "model3_res=ARIMA(df['Close'],order=(6,1,1))\n",
    "model3_res=model3_res.fit()\n",
    "model3_res.summary()"
   ]
  },
  {
   "cell_type": "code",
   "execution_count": null,
   "id": "04067bd4",
   "metadata": {},
   "outputs": [],
   "source": [
    "from statsmodels.tsa.arima.model import ARIMA\n",
    "\n",
    "\n",
    "model3_611_arima=ARIMA(df['Close'],order=(6,1,1))\n",
    "model3_611=model3_611_arima.fit()\n",
    "model3_611.summary()\n",
    "\n",
    "# Forecast\n",
    "#fc, se, conf = model3.forecast(5, alpha=0.05)  # 95% conf"
   ]
  },
  {
   "cell_type": "code",
   "execution_count": null,
   "id": "2763ffeb",
   "metadata": {},
   "outputs": [],
   "source": [
    "start=len(train)\n",
    "end=len(train)+len(test)-1\n",
    "pred3=model3_611.predict(start=start,end=end,typ='levels').rename('ARIMA predictions')\n",
    "pred3"
   ]
  },
  {
   "cell_type": "code",
   "execution_count": null,
   "id": "51c2dd0c",
   "metadata": {
    "scrolled": true
   },
   "outputs": [],
   "source": [
    "# creating a list of column names\n",
    "cols3 = ['date', 'y_test', 'y_pred']\n",
    "sp_res3=pd.DataFrame(data=[test.index.to_numpy(),test[\"Close\"].to_numpy(), pred3]).T\n",
    "sp_res3.columns = cols3\n",
    "sp_res3"
   ]
  },
  {
   "cell_type": "markdown",
   "id": "c7ad5293",
   "metadata": {},
   "source": [
    "### Forecast using ARIMA model3_611"
   ]
  },
  {
   "cell_type": "code",
   "execution_count": null,
   "id": "63a1cdf2",
   "metadata": {},
   "outputs": [],
   "source": [
    "index_future_dates_3=pd.date_range(start='2023-05-20',end='2023-06-19')\n",
    "pred3_fut=model3_611.predict(start=len(df),end=len(df)+30,typ='levels').rename('ARIMA Predictions')\n",
    "#print(comp_pred)\n",
    "pred3_fut.index=index_future_dates_3\n",
    "#print(pred3_fut)\n",
    "\n",
    "dfFut_3 = pred3_fut.to_frame(name='pred_future')\n",
    "dfFut_3.reset_index(inplace=True)\n",
    "dfFut_3.rename(columns={'index':'date'}, inplace=True)\n",
    "\n",
    "dfFut_3\n"
   ]
  },
  {
   "cell_type": "code",
   "execution_count": null,
   "id": "5b6360fd",
   "metadata": {},
   "outputs": [],
   "source": []
  },
  {
   "cell_type": "code",
   "execution_count": null,
   "id": "a4fc6855",
   "metadata": {},
   "outputs": [],
   "source": [
    "#Plot Test VS predicted\n",
    "plt.figure(figsize=(18,10))\n",
    "plt.plot(sp_res3['date'].to_numpy() , sp_res3['y_test'].to_numpy(), label=\"original\" )\n",
    "plt.plot(sp_res3['date'].to_numpy() , sp_res3['y_pred'].to_numpy(), label=\"predicted\" )\n",
    "plt.plot(dfFut_3['date'].to_numpy() , dfFut_3['pred_future'].to_numpy(), label=\"predicted future\" )\n",
    "plt.legend()\n",
    "plt.show()"
   ]
  },
  {
   "cell_type": "code",
   "execution_count": null,
   "id": "5960af66",
   "metadata": {},
   "outputs": [],
   "source": [
    "test"
   ]
  },
  {
   "cell_type": "code",
   "execution_count": null,
   "id": "a9155b89",
   "metadata": {},
   "outputs": [],
   "source": [
    "\n",
    "# Build Model\n",
    "model = ARIMA(train, order=(2, 2, 1))  \n",
    "fitted = model.fit()  \n",
    "print(fitted.summary())\n"
   ]
  },
  {
   "cell_type": "code",
   "execution_count": null,
   "id": "145ed2a4",
   "metadata": {},
   "outputs": [],
   "source": [
    "forecast_accuracy( sp_res2['y_pred'].to_numpy(), sp_res2['y_test'].to_numpy())"
   ]
  },
  {
   "cell_type": "code",
   "execution_count": null,
   "id": "a0410877",
   "metadata": {
    "scrolled": false
   },
   "outputs": [],
   "source": [
    "pred.plot(figsize=(12,5),legend=True)\n"
   ]
  },
  {
   "cell_type": "code",
   "execution_count": null,
   "id": "66d69a5e",
   "metadata": {},
   "outputs": [],
   "source": [
    "df"
   ]
  }
 ],
 "metadata": {
  "kernelspec": {
   "display_name": "Python 3 (ipykernel)",
   "language": "python",
   "name": "python3"
  },
  "language_info": {
   "codemirror_mode": {
    "name": "ipython",
    "version": 3
   },
   "file_extension": ".py",
   "mimetype": "text/x-python",
   "name": "python",
   "nbconvert_exporter": "python",
   "pygments_lexer": "ipython3",
   "version": "3.9.12"
  }
 },
 "nbformat": 4,
 "nbformat_minor": 5
}
